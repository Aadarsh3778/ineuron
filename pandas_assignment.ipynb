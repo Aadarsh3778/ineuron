{
 "cells": [
  {
   "cell_type": "markdown",
   "id": "18622a1c",
   "metadata": {},
   "source": [
    "# Pandas Assignment"
   ]
  },
  {
   "cell_type": "code",
   "execution_count": null,
   "id": "de02a21b",
   "metadata": {},
   "outputs": [],
   "source": [
    "#Importing impo\n",
    "import pandas as pd\n",
    "import numpy as np"
   ]
  },
  {
   "cell_type": "code",
   "execution_count": null,
   "id": "8667b761",
   "metadata": {},
   "outputs": [],
   "source": [
    "df = pd.DataFrame({'From_To': ['LoNDon_paris', 'MAdrid_miLAN','londON_StockhOlm','Budapest_PaRis', 'Brussels_londOn'],\n",
    "'FlightNumber': [10045, np.nan, 10065, np.nan, 10085],\n",
    "'RecentDelays': [[23, 47], [], [24, 43, 87], [13], [67, 32]],\n",
    "'Airline': ['KLM(!)', '<Air France> (12)', '(British Airways. )','12. Air France', '\"Swiss Air\"']})"
   ]
  },
  {
   "cell_type": "code",
   "execution_count": null,
   "id": "ee91a052",
   "metadata": {},
   "outputs": [],
   "source": [
    "df"
   ]
  },
  {
   "cell_type": "markdown",
   "id": "9ffc8511",
   "metadata": {},
   "source": [
    "### 1. Some values in the the FlightNumber column are missing. These numbers aremeant to increase by 10 with each row so 10055 and 10075 need to be put inplace. Fill in these missing numbers and make the column an integer column(instead of a float column)."
   ]
  },
  {
   "cell_type": "code",
   "execution_count": null,
   "id": "eb00603f",
   "metadata": {},
   "outputs": [],
   "source": [
    "df['FlightNumber']=df['FlightNumber'].interpolate().astype(int)"
   ]
  },
  {
   "cell_type": "code",
   "execution_count": null,
   "id": "2f232acf",
   "metadata": {},
   "outputs": [],
   "source": [
    "df"
   ]
  },
  {
   "cell_type": "markdown",
   "id": "9ff7edf6",
   "metadata": {},
   "source": [
    "### 2. The From_To column would be better as two separate columns! Split eachstring on the underscore delimiter _ to give a new temporary DataFrame withthe correct values. Assign the correct column names to this temporaryDataFrame.\n"
   ]
  },
  {
   "cell_type": "code",
   "execution_count": null,
   "id": "2d390e0f",
   "metadata": {},
   "outputs": [],
   "source": [
    "From = []\n",
    "To = []\n",
    "for i in df[\"From_To\"]:\n",
    "    f,t = i.split(\"_\")\n",
    "    From.append(f)\n",
    "    To.append(t)"
   ]
  },
  {
   "cell_type": "code",
   "execution_count": null,
   "id": "f3dff454",
   "metadata": {},
   "outputs": [],
   "source": [
    "df[\"From\"] = From\n",
    "df[\"To\"] = To"
   ]
  },
  {
   "cell_type": "code",
   "execution_count": null,
   "id": "9dd74f7c",
   "metadata": {},
   "outputs": [],
   "source": [
    "df"
   ]
  },
  {
   "cell_type": "markdown",
   "id": "4c15a3ed",
   "metadata": {},
   "source": [
    "### 3. Notice how the capitalisation of the city names is all mixed up in thistemporary DataFrame. Standardise the strings so that only the first letter isuppercase (e.g. \"londON\" should become \"London\".)\n"
   ]
  },
  {
   "cell_type": "code",
   "execution_count": null,
   "id": "05bf8424",
   "metadata": {},
   "outputs": [],
   "source": [
    "From = []\n",
    "for i in df[\"From\"]:\n",
    "    From.append(i.capitalize())\n",
    "    \n",
    "To = []\n",
    "for i in df[\"To\"]:\n",
    "    To.append(i.capitalize())"
   ]
  },
  {
   "cell_type": "code",
   "execution_count": null,
   "id": "ca2793a4",
   "metadata": {},
   "outputs": [],
   "source": [
    "df[\"From\"] = From\n",
    "df[\"To\"] = To"
   ]
  },
  {
   "cell_type": "code",
   "execution_count": null,
   "id": "8e9ae9bd",
   "metadata": {},
   "outputs": [],
   "source": [
    "df"
   ]
  },
  {
   "cell_type": "markdown",
   "id": "253b1bac",
   "metadata": {},
   "source": [
    "### 4. Delete the From_To column from df and attach the temporary DataFramefrom the previous questions."
   ]
  },
  {
   "cell_type": "code",
   "execution_count": null,
   "id": "78f07bf0",
   "metadata": {},
   "outputs": [],
   "source": [
    "df.drop([\"From_To\"], axis=1, inplace=True)"
   ]
  },
  {
   "cell_type": "markdown",
   "id": "6bc77486",
   "metadata": {},
   "source": [
    "### 5. In the RecentDelays column, the values have been entered into theDataFrame as a list. We would like each first value in its own column, eachsecond value in its own column, and so on. If there isn't an Nth value, the valueshould be NaN.Expand the Series of lists into a DataFrame named delays, rename the columnsdelay_1, delay_2, etc. and replace the unwanted RecentDelays column in dfwith delays.\n"
   ]
  },
  {
   "cell_type": "code",
   "execution_count": null,
   "id": "f6aa0796",
   "metadata": {},
   "outputs": [],
   "source": [
    "delays = pd.DataFrame(df['RecentDelays'].tolist())"
   ]
  },
  {
   "cell_type": "code",
   "execution_count": null,
   "id": "7ee9945e",
   "metadata": {},
   "outputs": [],
   "source": [
    "delays"
   ]
  },
  {
   "cell_type": "code",
   "execution_count": null,
   "id": "27a2b1a6",
   "metadata": {},
   "outputs": [],
   "source": [
    "delays.rename(columns = {0:\"Delay_1\", 1:\"Delay_2\", 2:\"Delay_3\"}, inplace=True)"
   ]
  },
  {
   "cell_type": "code",
   "execution_count": null,
   "id": "07a4215b",
   "metadata": {},
   "outputs": [],
   "source": [
    "delays"
   ]
  },
  {
   "cell_type": "code",
   "execution_count": null,
   "id": "3bd75f81",
   "metadata": {},
   "outputs": [],
   "source": [
    "df = pd.concat([df,split_df], axis=1)"
   ]
  },
  {
   "cell_type": "code",
   "execution_count": null,
   "id": "5f7e93ee",
   "metadata": {},
   "outputs": [],
   "source": [
    "df"
   ]
  },
  {
   "cell_type": "code",
   "execution_count": null,
   "id": "87406704",
   "metadata": {},
   "outputs": [],
   "source": []
  },
  {
   "cell_type": "code",
   "execution_count": null,
   "id": "0dc161a1",
   "metadata": {},
   "outputs": [],
   "source": []
  },
  {
   "cell_type": "code",
   "execution_count": null,
   "id": "7f060ced",
   "metadata": {},
   "outputs": [],
   "source": []
  }
 ],
 "metadata": {
  "kernelspec": {
   "display_name": "Python 3 (ipykernel)",
   "language": "python",
   "name": "python3"
  },
  "language_info": {
   "codemirror_mode": {
    "name": "ipython",
    "version": 3
   },
   "file_extension": ".py",
   "mimetype": "text/x-python",
   "name": "python",
   "nbconvert_exporter": "python",
   "pygments_lexer": "ipython3",
   "version": "3.9.7"
  }
 },
 "nbformat": 4,
 "nbformat_minor": 5
}
